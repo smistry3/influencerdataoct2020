{
  "nbformat": 4,
  "nbformat_minor": 0,
  "metadata": {
    "colab": {
      "name": "data_visualization_influencer",
      "provenance": [],
      "authorship_tag": "ABX9TyO/Q6rkRrR9/0gg4aPl5hJh",
      "include_colab_link": true
    },
    "kernelspec": {
      "name": "python3",
      "display_name": "Python 3"
    }
  },
  "cells": [
    {
      "cell_type": "markdown",
      "metadata": {
        "id": "view-in-github",
        "colab_type": "text"
      },
      "source": [
        "<a href=\"https://colab.research.google.com/github/smistry3/influencerdataoct2020/blob/main/data_visualization_influencer.ipynb\" target=\"_parent\"><img src=\"https://colab.research.google.com/assets/colab-badge.svg\" alt=\"Open In Colab\"/></a>"
      ]
    },
    {
      "cell_type": "code",
      "metadata": {
        "id": "mX-BND71tICk"
      },
      "source": [
        "import pandas as pd"
      ],
      "execution_count": null,
      "outputs": []
    },
    {
      "cell_type": "code",
      "metadata": {
        "id": "37GlM0UFtOJg"
      },
      "source": [
        "download_url = (\n",
        "  \"https://raw.githubusercontent.com/smistry3/influencerdataoct2020/main/influencerdata.csv\"\n",
        ")"
      ],
      "execution_count": null,
      "outputs": []
    },
    {
      "cell_type": "code",
      "metadata": {
        "id": "S9Wkpkmht0IP"
      },
      "source": [
        "data_frame = pd.read_csv(download_url)"
      ],
      "execution_count": null,
      "outputs": []
    },
    {
      "cell_type": "code",
      "metadata": {
        "id": "F7PBcIQet9OI"
      },
      "source": [
        "pd.set_option(\"display.max.columns\", None)"
      ],
      "execution_count": null,
      "outputs": []
    },
    {
      "cell_type": "code",
      "metadata": {
        "id": "DhUaBA_9uK8R",
        "outputId": "b7875d99-3ce5-447e-ce5f-1cb712061878",
        "colab": {
          "base_uri": "https://localhost:8080/",
          "height": 201
        }
      },
      "source": [
        "data_frame.head()"
      ],
      "execution_count": 11,
      "outputs": [
        {
          "output_type": "execute_result",
          "data": {
            "text/html": [
              "<div>\n",
              "<style scoped>\n",
              "    .dataframe tbody tr th:only-of-type {\n",
              "        vertical-align: middle;\n",
              "    }\n",
              "\n",
              "    .dataframe tbody tr th {\n",
              "        vertical-align: top;\n",
              "    }\n",
              "\n",
              "    .dataframe thead th {\n",
              "        text-align: right;\n",
              "    }\n",
              "</style>\n",
              "<table border=\"1\" class=\"dataframe\">\n",
              "  <thead>\n",
              "    <tr style=\"text-align: right;\">\n",
              "      <th></th>\n",
              "      <th>Rank</th>\n",
              "      <th>Name</th>\n",
              "      <th>Username</th>\n",
              "      <th>Follower Count</th>\n",
              "      <th>Total Likes</th>\n",
              "      <th>Est. Net Worth (Dollars)</th>\n",
              "    </tr>\n",
              "  </thead>\n",
              "  <tbody>\n",
              "    <tr>\n",
              "      <th>0</th>\n",
              "      <td>1</td>\n",
              "      <td>Charli D'amelio</td>\n",
              "      <td>charlidamelio</td>\n",
              "      <td>95765807</td>\n",
              "      <td>7400000000</td>\n",
              "      <td>4000000</td>\n",
              "    </tr>\n",
              "    <tr>\n",
              "      <th>1</th>\n",
              "      <td>2</td>\n",
              "      <td>Addison Rae Easterling</td>\n",
              "      <td>addisonre</td>\n",
              "      <td>66618928</td>\n",
              "      <td>4100000000</td>\n",
              "      <td>5000000</td>\n",
              "    </tr>\n",
              "    <tr>\n",
              "      <th>2</th>\n",
              "      <td>3</td>\n",
              "      <td>Zach King</td>\n",
              "      <td>zachking</td>\n",
              "      <td>51905901</td>\n",
              "      <td>608000000</td>\n",
              "      <td>3000000</td>\n",
              "    </tr>\n",
              "    <tr>\n",
              "      <th>3</th>\n",
              "      <td>4</td>\n",
              "      <td>Loren Gray</td>\n",
              "      <td>lorengray</td>\n",
              "      <td>48502407</td>\n",
              "      <td>2600000000</td>\n",
              "      <td>2600000</td>\n",
              "    </tr>\n",
              "    <tr>\n",
              "      <th>4</th>\n",
              "      <td>5</td>\n",
              "      <td>TikTok</td>\n",
              "      <td>tiktok</td>\n",
              "      <td>48300000</td>\n",
              "      <td>240800000</td>\n",
              "      <td>75000000000</td>\n",
              "    </tr>\n",
              "  </tbody>\n",
              "</table>\n",
              "</div>"
            ],
            "text/plain": [
              "   Rank                    Name       Username  Follower Count  Total Likes  \\\n",
              "0     1         Charli D'amelio  charlidamelio        95765807   7400000000   \n",
              "1     2  Addison Rae Easterling      addisonre        66618928   4100000000   \n",
              "2     3               Zach King       zachking        51905901    608000000   \n",
              "3     4              Loren Gray      lorengray        48502407   2600000000   \n",
              "4     5                  TikTok         tiktok        48300000    240800000   \n",
              "\n",
              "   Est. Net Worth (Dollars)  \n",
              "0                   4000000  \n",
              "1                   5000000  \n",
              "2                   3000000  \n",
              "3                   2600000  \n",
              "4               75000000000  "
            ]
          },
          "metadata": {
            "tags": []
          },
          "execution_count": 11
        }
      ]
    },
    {
      "cell_type": "code",
      "metadata": {
        "id": "KixYiCF-uT6O"
      },
      "source": [
        "%matplotlib inline"
      ],
      "execution_count": 12,
      "outputs": []
    },
    {
      "cell_type": "code",
      "metadata": {
        "id": "yFvxefogv8Ra",
        "outputId": "5386e4dd-336f-4474-9d2d-fa0c24f4a37d",
        "colab": {
          "base_uri": "https://localhost:8080/",
          "height": 292
        }
      },
      "source": [
        "data_frame.plot(x=\"Name\", y=[\"Total Likes\"],kind=\"barh\", rot=5, fontsize=9 )"
      ],
      "execution_count": 37,
      "outputs": [
        {
          "output_type": "execute_result",
          "data": {
            "text/plain": [
              "<matplotlib.axes._subplots.AxesSubplot at 0x7eff162003c8>"
            ]
          },
          "metadata": {
            "tags": []
          },
          "execution_count": 37
        },
        {
          "output_type": "display_data",
          "data": {
            "image/png": "[encoded data removed]",
            "text/plain": [
              "<Figure size 432x288 with 1 Axes>"
            ]
          },
          "metadata": {
            "tags": [],
            "needs_background": "light"
          }
        }
      ]
    },
    {
      "cell_type": "code",
      "metadata": {
        "id": "YH-GYSY8wNla",
        "outputId": "345e6d05-575e-4024-df50-d53bc309aeda",
        "colab": {
          "base_uri": "https://localhost:8080/",
          "height": 303
        }
      },
      "source": [
        "data_frame.plot(x = \"Username\",y=\"Est. Net Worth (Dollars)\", kind=\"scatter\", rot=5, fontsize=5)"
      ],
      "execution_count": 60,
      "outputs": [
        {
          "output_type": "execute_result",
          "data": {
            "text/plain": [
              "<matplotlib.axes._subplots.AxesSubplot at 0x7eff155d0dd8>"
            ]
          },
          "metadata": {
            "tags": []
          },
          "execution_count": 60
        },
        {
          "output_type": "display_data",
          "data": {
            "image/png": "[encoded data removed]",
            "text/plain": [
              "<Figure size 432x288 with 1 Axes>"
            ]
          },
          "metadata": {
            "tags": [],
            "needs_background": "light"
          }
        }
      ]
    },
    {
      "cell_type": "code",
      "metadata": {
        "id": "LumTSBzQxEik",
        "outputId": "cf46a3c0-d4a7-4545-fec0-c1c1b4be5eba",
        "colab": {
          "base_uri": "https://localhost:8080/",
          "height": 304
        }
      },
      "source": [
        "data_frame.plot(x=\"Name\",y=\"Follower Count\", kind=\"area\", rot=5, fontsize=6)"
      ],
      "execution_count": 51,
      "outputs": [
        {
          "output_type": "execute_result",
          "data": {
            "text/plain": [
              "<matplotlib.axes._subplots.AxesSubplot at 0x7eff15ad7668>"
            ]
          },
          "metadata": {
            "tags": []
          },
          "execution_count": 51
        },
        {
          "output_type": "display_data",
          "data": {
            "image/png": "[encoded data removed]",
            "text/plain": [
              "<Figure size 432x288 with 1 Axes>"
            ]
          },
          "metadata": {
            "tags": [],
            "needs_background": "light"
          }
        }
      ]
    }
  ]
}